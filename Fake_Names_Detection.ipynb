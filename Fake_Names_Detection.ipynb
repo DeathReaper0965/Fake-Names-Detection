{
  "nbformat": 4,
  "nbformat_minor": 0,
  "metadata": {
    "colab": {
      "name": "Fake Names Detection.ipynb",
      "version": "0.3.2",
      "provenance": [],
      "collapsed_sections": []
    },
    "kernelspec": {
      "name": "python3",
      "display_name": "Python 3"
    },
    "accelerator": "TPU"
  },
  "cells": [
    {
      "cell_type": "code",
      "metadata": {
        "id": "BhOgBcn9ivAQ",
        "colab_type": "code",
        "colab": {}
      },
      "source": [
        "from collections import defaultdict\n",
        "import matplotlib.pyplot as plt\n",
        "from nltk.corpus import stopwords\n",
        "import pandas as pd\n",
        "from sklearn.preprocessing import LabelEncoder\n",
        "from sklearn.feature_extraction.text import CountVectorizer, TfidfVectorizer\n",
        "from sklearn.model_selection import train_test_split, RandomizedSearchCV, cross_val_score, GridSearchCV\n",
        "from sklearn.metrics import accuracy_score, confusion_matrix\n",
        "from sklearn.naive_bayes import MultinomialNB\n",
        "from sklearn.tree import DecisionTreeClassifier\n",
        "from scipy.stats import randint\n",
        "from sklearn.linear_model import ElasticNet\n",
        "import numpy as np\n",
        "import random\n",
        "import copy\n",
        "from google.colab import files\n",
        "from google.colab import drive\n",
        "import seaborn as sns\n",
        "\n",
        "%matplotlib inline"
      ],
      "execution_count": 0,
      "outputs": []
    },
    {
      "cell_type": "code",
      "metadata": {
        "id": "EnHHeL9xi-ls",
        "colab_type": "code",
        "outputId": "b6e31204-e00d-405e-d8b0-e983f16327d1",
        "colab": {
          "base_uri": "https://localhost:8080/",
          "height": 122
        }
      },
      "source": [
        "drive.mount(\"/content/drive\")"
      ],
      "execution_count": 0,
      "outputs": [
        {
          "output_type": "stream",
          "text": [
            "Go to this URL in a browser: https://accounts.google.com/o/oauth2/auth?client_id=947318989803-6bn6qk8qdgf4n4g3pfee6491hc0brc4i.apps.googleusercontent.com&redirect_uri=urn%3Aietf%3Awg%3Aoauth%3A2.0%3Aoob&scope=email%20https%3A%2F%2Fwww.googleapis.com%2Fauth%2Fdocs.test%20https%3A%2F%2Fwww.googleapis.com%2Fauth%2Fdrive%20https%3A%2F%2Fwww.googleapis.com%2Fauth%2Fdrive.photos.readonly%20https%3A%2F%2Fwww.googleapis.com%2Fauth%2Fpeopleapi.readonly&response_type=code\n",
            "\n",
            "Enter your authorization code:\n",
            "··········\n",
            "Mounted at /content/drive\n"
          ],
          "name": "stdout"
        }
      ]
    },
    {
      "cell_type": "code",
      "metadata": {
        "id": "74UoKJpskK9s",
        "colab_type": "code",
        "colab": {}
      },
      "source": [
        "real_males_df = pd.read_csv(\"/content/drive/My Drive/Colab_Notebooks/Indian-Male-Names.csv\")\n",
        "real_females_df = pd.read_csv(\"/content/drive/My Drive/Colab_Notebooks/Indian-Female-Names.csv\")"
      ],
      "execution_count": 0,
      "outputs": []
    },
    {
      "cell_type": "code",
      "metadata": {
        "id": "JkAvgziZlDjG",
        "colab_type": "code",
        "outputId": "ef1c506a-96a2-4df7-aac9-04a5cf05a5f7",
        "colab": {
          "base_uri": "https://localhost:8080/",
          "height": 204
        }
      },
      "source": [
        "real_males_df.head()"
      ],
      "execution_count": 0,
      "outputs": [
        {
          "output_type": "execute_result",
          "data": {
            "text/html": [
              "<div>\n",
              "<style scoped>\n",
              "    .dataframe tbody tr th:only-of-type {\n",
              "        vertical-align: middle;\n",
              "    }\n",
              "\n",
              "    .dataframe tbody tr th {\n",
              "        vertical-align: top;\n",
              "    }\n",
              "\n",
              "    .dataframe thead th {\n",
              "        text-align: right;\n",
              "    }\n",
              "</style>\n",
              "<table border=\"1\" class=\"dataframe\">\n",
              "  <thead>\n",
              "    <tr style=\"text-align: right;\">\n",
              "      <th></th>\n",
              "      <th>name</th>\n",
              "      <th>gender</th>\n",
              "      <th>race</th>\n",
              "    </tr>\n",
              "  </thead>\n",
              "  <tbody>\n",
              "    <tr>\n",
              "      <th>0</th>\n",
              "      <td>barjraj</td>\n",
              "      <td>m</td>\n",
              "      <td>indian</td>\n",
              "    </tr>\n",
              "    <tr>\n",
              "      <th>1</th>\n",
              "      <td>ramdin verma</td>\n",
              "      <td>m</td>\n",
              "      <td>indian</td>\n",
              "    </tr>\n",
              "    <tr>\n",
              "      <th>2</th>\n",
              "      <td>sharat chandran</td>\n",
              "      <td>m</td>\n",
              "      <td>indian</td>\n",
              "    </tr>\n",
              "    <tr>\n",
              "      <th>3</th>\n",
              "      <td>birender mandal</td>\n",
              "      <td>m</td>\n",
              "      <td>indian</td>\n",
              "    </tr>\n",
              "    <tr>\n",
              "      <th>4</th>\n",
              "      <td>amit</td>\n",
              "      <td>m</td>\n",
              "      <td>indian</td>\n",
              "    </tr>\n",
              "  </tbody>\n",
              "</table>\n",
              "</div>"
            ],
            "text/plain": [
              "              name gender    race\n",
              "0          barjraj      m  indian\n",
              "1     ramdin verma      m  indian\n",
              "2  sharat chandran      m  indian\n",
              "3  birender mandal      m  indian\n",
              "4             amit      m  indian"
            ]
          },
          "metadata": {
            "tags": []
          },
          "execution_count": 4
        }
      ]
    },
    {
      "cell_type": "code",
      "metadata": {
        "id": "4s4EDtRnoKpn",
        "colab_type": "code",
        "outputId": "0847b2f1-e8fb-47c1-960c-5c490bd8a2eb",
        "colab": {
          "base_uri": "https://localhost:8080/",
          "height": 204
        }
      },
      "source": [
        " real_females_df.head()"
      ],
      "execution_count": 0,
      "outputs": [
        {
          "output_type": "execute_result",
          "data": {
            "text/html": [
              "<div>\n",
              "<style scoped>\n",
              "    .dataframe tbody tr th:only-of-type {\n",
              "        vertical-align: middle;\n",
              "    }\n",
              "\n",
              "    .dataframe tbody tr th {\n",
              "        vertical-align: top;\n",
              "    }\n",
              "\n",
              "    .dataframe thead th {\n",
              "        text-align: right;\n",
              "    }\n",
              "</style>\n",
              "<table border=\"1\" class=\"dataframe\">\n",
              "  <thead>\n",
              "    <tr style=\"text-align: right;\">\n",
              "      <th></th>\n",
              "      <th>name</th>\n",
              "      <th>gender</th>\n",
              "      <th>race</th>\n",
              "    </tr>\n",
              "  </thead>\n",
              "  <tbody>\n",
              "    <tr>\n",
              "      <th>0</th>\n",
              "      <td>shivani</td>\n",
              "      <td>f</td>\n",
              "      <td>indian</td>\n",
              "    </tr>\n",
              "    <tr>\n",
              "      <th>1</th>\n",
              "      <td>isha</td>\n",
              "      <td>f</td>\n",
              "      <td>indian</td>\n",
              "    </tr>\n",
              "    <tr>\n",
              "      <th>2</th>\n",
              "      <td>smt shyani devi</td>\n",
              "      <td>f</td>\n",
              "      <td>indian</td>\n",
              "    </tr>\n",
              "    <tr>\n",
              "      <th>3</th>\n",
              "      <td>divya</td>\n",
              "      <td>f</td>\n",
              "      <td>indian</td>\n",
              "    </tr>\n",
              "    <tr>\n",
              "      <th>4</th>\n",
              "      <td>mansi</td>\n",
              "      <td>f</td>\n",
              "      <td>indian</td>\n",
              "    </tr>\n",
              "  </tbody>\n",
              "</table>\n",
              "</div>"
            ],
            "text/plain": [
              "              name gender    race\n",
              "0          shivani      f  indian\n",
              "1             isha      f  indian\n",
              "2  smt shyani devi      f  indian\n",
              "3            divya      f  indian\n",
              "4            mansi      f  indian"
            ]
          },
          "metadata": {
            "tags": []
          },
          "execution_count": 5
        }
      ]
    },
    {
      "cell_type": "code",
      "metadata": {
        "id": "AtiG9T_2lIzV",
        "colab_type": "code",
        "colab": {}
      },
      "source": [
        "fake_males_df = real_males_df.copy(deep=True)\n",
        "fake_females_df = real_females_df.copy(deep=True)"
      ],
      "execution_count": 0,
      "outputs": []
    },
    {
      "cell_type": "code",
      "metadata": {
        "id": "AwKUQ_8tnpvE",
        "colab_type": "code",
        "colab": {}
      },
      "source": [
        "fake_males_df.name = fake_males_df.name.apply(lambda x: str(x))\n",
        "fake_females_df.name = fake_females_df.name.apply(lambda x: str(x))"
      ],
      "execution_count": 0,
      "outputs": []
    },
    {
      "cell_type": "code",
      "metadata": {
        "id": "M6h6rFTjomTn",
        "colab_type": "code",
        "colab": {}
      },
      "source": [
        "fake_males_df.name = fake_males_df.name.apply(lambda x: \"\".join(random.sample(x, len(x))))\n",
        "fake_females_df.name = fake_females_df.name.apply(lambda x: \"\".join(random.sample(x, len(x))))\n",
        "fake_males_df.race = \"fake_name\"\n",
        "fake_females_df.race = \"fake_name\""
      ],
      "execution_count": 0,
      "outputs": []
    },
    {
      "cell_type": "code",
      "metadata": {
        "id": "_eGqKsU5nw95",
        "colab_type": "code",
        "outputId": "b346636f-28ea-443d-bd55-57f40d8bb5da",
        "colab": {
          "base_uri": "https://localhost:8080/",
          "height": 204
        }
      },
      "source": [
        "fake_males_df.head()"
      ],
      "execution_count": 0,
      "outputs": [
        {
          "output_type": "execute_result",
          "data": {
            "text/html": [
              "<div>\n",
              "<style scoped>\n",
              "    .dataframe tbody tr th:only-of-type {\n",
              "        vertical-align: middle;\n",
              "    }\n",
              "\n",
              "    .dataframe tbody tr th {\n",
              "        vertical-align: top;\n",
              "    }\n",
              "\n",
              "    .dataframe thead th {\n",
              "        text-align: right;\n",
              "    }\n",
              "</style>\n",
              "<table border=\"1\" class=\"dataframe\">\n",
              "  <thead>\n",
              "    <tr style=\"text-align: right;\">\n",
              "      <th></th>\n",
              "      <th>name</th>\n",
              "      <th>gender</th>\n",
              "      <th>race</th>\n",
              "    </tr>\n",
              "  </thead>\n",
              "  <tbody>\n",
              "    <tr>\n",
              "      <th>0</th>\n",
              "      <td>ajrjrab</td>\n",
              "      <td>m</td>\n",
              "      <td>fake_name</td>\n",
              "    </tr>\n",
              "    <tr>\n",
              "      <th>1</th>\n",
              "      <td>v inaerdmram</td>\n",
              "      <td>m</td>\n",
              "      <td>fake_name</td>\n",
              "    </tr>\n",
              "    <tr>\n",
              "      <th>2</th>\n",
              "      <td>tn cranahhdsraa</td>\n",
              "      <td>m</td>\n",
              "      <td>fake_name</td>\n",
              "    </tr>\n",
              "    <tr>\n",
              "      <th>3</th>\n",
              "      <td>rrnblnieedama d</td>\n",
              "      <td>m</td>\n",
              "      <td>fake_name</td>\n",
              "    </tr>\n",
              "    <tr>\n",
              "      <th>4</th>\n",
              "      <td>imta</td>\n",
              "      <td>m</td>\n",
              "      <td>fake_name</td>\n",
              "    </tr>\n",
              "  </tbody>\n",
              "</table>\n",
              "</div>"
            ],
            "text/plain": [
              "              name gender       race\n",
              "0          ajrjrab      m  fake_name\n",
              "1     v inaerdmram      m  fake_name\n",
              "2  tn cranahhdsraa      m  fake_name\n",
              "3  rrnblnieedama d      m  fake_name\n",
              "4             imta      m  fake_name"
            ]
          },
          "metadata": {
            "tags": []
          },
          "execution_count": 9
        }
      ]
    },
    {
      "cell_type": "code",
      "metadata": {
        "id": "ysEF-hMeoVNe",
        "colab_type": "code",
        "outputId": "1ca187a6-3ccf-4579-dbd2-87a2ae91179b",
        "colab": {
          "base_uri": "https://localhost:8080/",
          "height": 204
        }
      },
      "source": [
        "fake_females_df.head()"
      ],
      "execution_count": 0,
      "outputs": [
        {
          "output_type": "execute_result",
          "data": {
            "text/html": [
              "<div>\n",
              "<style scoped>\n",
              "    .dataframe tbody tr th:only-of-type {\n",
              "        vertical-align: middle;\n",
              "    }\n",
              "\n",
              "    .dataframe tbody tr th {\n",
              "        vertical-align: top;\n",
              "    }\n",
              "\n",
              "    .dataframe thead th {\n",
              "        text-align: right;\n",
              "    }\n",
              "</style>\n",
              "<table border=\"1\" class=\"dataframe\">\n",
              "  <thead>\n",
              "    <tr style=\"text-align: right;\">\n",
              "      <th></th>\n",
              "      <th>name</th>\n",
              "      <th>gender</th>\n",
              "      <th>race</th>\n",
              "    </tr>\n",
              "  </thead>\n",
              "  <tbody>\n",
              "    <tr>\n",
              "      <th>0</th>\n",
              "      <td>shivani</td>\n",
              "      <td>f</td>\n",
              "      <td>fake_name</td>\n",
              "    </tr>\n",
              "    <tr>\n",
              "      <th>1</th>\n",
              "      <td>ahis</td>\n",
              "      <td>f</td>\n",
              "      <td>fake_name</td>\n",
              "    </tr>\n",
              "    <tr>\n",
              "      <th>2</th>\n",
              "      <td>mivsatn  deshyi</td>\n",
              "      <td>f</td>\n",
              "      <td>fake_name</td>\n",
              "    </tr>\n",
              "    <tr>\n",
              "      <th>3</th>\n",
              "      <td>vayid</td>\n",
              "      <td>f</td>\n",
              "      <td>fake_name</td>\n",
              "    </tr>\n",
              "    <tr>\n",
              "      <th>4</th>\n",
              "      <td>nmias</td>\n",
              "      <td>f</td>\n",
              "      <td>fake_name</td>\n",
              "    </tr>\n",
              "  </tbody>\n",
              "</table>\n",
              "</div>"
            ],
            "text/plain": [
              "              name gender       race\n",
              "0          shivani      f  fake_name\n",
              "1             ahis      f  fake_name\n",
              "2  mivsatn  deshyi      f  fake_name\n",
              "3            vayid      f  fake_name\n",
              "4            nmias      f  fake_name"
            ]
          },
          "metadata": {
            "tags": []
          },
          "execution_count": 10
        }
      ]
    },
    {
      "cell_type": "code",
      "metadata": {
        "id": "EG3UC5K9oprS",
        "colab_type": "code",
        "colab": {}
      },
      "source": [
        "real_males_df['real_0/fake_1'] = 0\n",
        "fake_males_df[\"real_0/fake_1\"] = 1\n",
        "real_females_df[\"real_0/fake_1\"] = 0\n",
        "fake_females_df[\"real_0/fake_1\"] = 1"
      ],
      "execution_count": 0,
      "outputs": []
    },
    {
      "cell_type": "code",
      "metadata": {
        "id": "qx19KA_no4k7",
        "colab_type": "code",
        "outputId": "397afa2c-ad88-4558-f920-deebda9a7420",
        "colab": {
          "base_uri": "https://localhost:8080/",
          "height": 34
        }
      },
      "source": [
        "real_males_df.shape, fake_males_df.shape, real_females_df.shape, fake_females_df.shape"
      ],
      "execution_count": 0,
      "outputs": [
        {
          "output_type": "execute_result",
          "data": {
            "text/plain": [
              "((14845, 4), (14845, 4), (15382, 4), (15382, 4))"
            ]
          },
          "metadata": {
            "tags": []
          },
          "execution_count": 12
        }
      ]
    },
    {
      "cell_type": "code",
      "metadata": {
        "id": "rCfdRdqio6au",
        "colab_type": "code",
        "colab": {}
      },
      "source": [
        "combined_names_df = real_males_df.append(fake_males_df).append(real_females_df).append(fake_females_df)"
      ],
      "execution_count": 0,
      "outputs": []
    },
    {
      "cell_type": "code",
      "metadata": {
        "id": "AYB8OABgo8pW",
        "colab_type": "code",
        "outputId": "e5c0e3ac-2b6f-4b59-e258-c0b80b7ebc5f",
        "colab": {
          "base_uri": "https://localhost:8080/",
          "height": 204
        }
      },
      "source": [
        "combined_names_df.head()"
      ],
      "execution_count": 0,
      "outputs": [
        {
          "output_type": "execute_result",
          "data": {
            "text/html": [
              "<div>\n",
              "<style scoped>\n",
              "    .dataframe tbody tr th:only-of-type {\n",
              "        vertical-align: middle;\n",
              "    }\n",
              "\n",
              "    .dataframe tbody tr th {\n",
              "        vertical-align: top;\n",
              "    }\n",
              "\n",
              "    .dataframe thead th {\n",
              "        text-align: right;\n",
              "    }\n",
              "</style>\n",
              "<table border=\"1\" class=\"dataframe\">\n",
              "  <thead>\n",
              "    <tr style=\"text-align: right;\">\n",
              "      <th></th>\n",
              "      <th>name</th>\n",
              "      <th>gender</th>\n",
              "      <th>race</th>\n",
              "      <th>real_0/fake_1</th>\n",
              "    </tr>\n",
              "  </thead>\n",
              "  <tbody>\n",
              "    <tr>\n",
              "      <th>0</th>\n",
              "      <td>barjraj</td>\n",
              "      <td>m</td>\n",
              "      <td>indian</td>\n",
              "      <td>0</td>\n",
              "    </tr>\n",
              "    <tr>\n",
              "      <th>1</th>\n",
              "      <td>ramdin verma</td>\n",
              "      <td>m</td>\n",
              "      <td>indian</td>\n",
              "      <td>0</td>\n",
              "    </tr>\n",
              "    <tr>\n",
              "      <th>2</th>\n",
              "      <td>sharat chandran</td>\n",
              "      <td>m</td>\n",
              "      <td>indian</td>\n",
              "      <td>0</td>\n",
              "    </tr>\n",
              "    <tr>\n",
              "      <th>3</th>\n",
              "      <td>birender mandal</td>\n",
              "      <td>m</td>\n",
              "      <td>indian</td>\n",
              "      <td>0</td>\n",
              "    </tr>\n",
              "    <tr>\n",
              "      <th>4</th>\n",
              "      <td>amit</td>\n",
              "      <td>m</td>\n",
              "      <td>indian</td>\n",
              "      <td>0</td>\n",
              "    </tr>\n",
              "  </tbody>\n",
              "</table>\n",
              "</div>"
            ],
            "text/plain": [
              "              name gender    race  real_0/fake_1\n",
              "0          barjraj      m  indian              0\n",
              "1     ramdin verma      m  indian              0\n",
              "2  sharat chandran      m  indian              0\n",
              "3  birender mandal      m  indian              0\n",
              "4             amit      m  indian              0"
            ]
          },
          "metadata": {
            "tags": []
          },
          "execution_count": 14
        }
      ]
    },
    {
      "cell_type": "code",
      "metadata": {
        "id": "yNEax_Igo_mk",
        "colab_type": "code",
        "outputId": "2041e667-9419-4858-a5b3-6669b9adaa5a",
        "colab": {
          "base_uri": "https://localhost:8080/",
          "height": 34
        }
      },
      "source": [
        "combined_names_df.shape"
      ],
      "execution_count": 0,
      "outputs": [
        {
          "output_type": "execute_result",
          "data": {
            "text/plain": [
              "(60454, 4)"
            ]
          },
          "metadata": {
            "tags": []
          },
          "execution_count": 15
        }
      ]
    },
    {
      "cell_type": "code",
      "metadata": {
        "id": "mWQqfZ_kpCiJ",
        "colab_type": "code",
        "colab": {}
      },
      "source": [
        "combined_names_df = combined_names_df.sample(frac=1).reset_index(drop=True)"
      ],
      "execution_count": 0,
      "outputs": []
    },
    {
      "cell_type": "code",
      "metadata": {
        "id": "-XUMe5jMpFWw",
        "colab_type": "code",
        "outputId": "178f9b39-dfc0-49d5-f13b-956c10998c07",
        "colab": {
          "base_uri": "https://localhost:8080/",
          "height": 204
        }
      },
      "source": [
        "combined_names_df.head()"
      ],
      "execution_count": 0,
      "outputs": [
        {
          "output_type": "execute_result",
          "data": {
            "text/html": [
              "<div>\n",
              "<style scoped>\n",
              "    .dataframe tbody tr th:only-of-type {\n",
              "        vertical-align: middle;\n",
              "    }\n",
              "\n",
              "    .dataframe tbody tr th {\n",
              "        vertical-align: top;\n",
              "    }\n",
              "\n",
              "    .dataframe thead th {\n",
              "        text-align: right;\n",
              "    }\n",
              "</style>\n",
              "<table border=\"1\" class=\"dataframe\">\n",
              "  <thead>\n",
              "    <tr style=\"text-align: right;\">\n",
              "      <th></th>\n",
              "      <th>name</th>\n",
              "      <th>gender</th>\n",
              "      <th>race</th>\n",
              "      <th>real_0/fake_1</th>\n",
              "    </tr>\n",
              "  </thead>\n",
              "  <tbody>\n",
              "    <tr>\n",
              "      <th>0</th>\n",
              "      <td>jafauamrsrad h</td>\n",
              "      <td>m</td>\n",
              "      <td>fake_name</td>\n",
              "      <td>1</td>\n",
              "    </tr>\n",
              "    <tr>\n",
              "      <th>1</th>\n",
              "      <td>hardeep @ hunny</td>\n",
              "      <td>m</td>\n",
              "      <td>indian</td>\n",
              "      <td>0</td>\n",
              "    </tr>\n",
              "    <tr>\n",
              "      <th>2</th>\n",
              "      <td>santosh mahto</td>\n",
              "      <td>m</td>\n",
              "      <td>indian</td>\n",
              "      <td>0</td>\n",
              "    </tr>\n",
              "    <tr>\n",
              "      <th>3</th>\n",
              "      <td>aabid</td>\n",
              "      <td>m</td>\n",
              "      <td>indian</td>\n",
              "      <td>0</td>\n",
              "    </tr>\n",
              "    <tr>\n",
              "      <th>4</th>\n",
              "      <td>hlrau</td>\n",
              "      <td>m</td>\n",
              "      <td>fake_name</td>\n",
              "      <td>1</td>\n",
              "    </tr>\n",
              "  </tbody>\n",
              "</table>\n",
              "</div>"
            ],
            "text/plain": [
              "              name gender       race  real_0/fake_1\n",
              "0   jafauamrsrad h      m  fake_name              1\n",
              "1  hardeep @ hunny      m     indian              0\n",
              "2    santosh mahto      m     indian              0\n",
              "3            aabid      m     indian              0\n",
              "4            hlrau      m  fake_name              1"
            ]
          },
          "metadata": {
            "tags": []
          },
          "execution_count": 17
        }
      ]
    },
    {
      "cell_type": "code",
      "metadata": {
        "id": "AlwZ2vLip9js",
        "colab_type": "code",
        "outputId": "e94d4e89-d38e-42ec-a84f-ee2597c2962c",
        "colab": {
          "base_uri": "https://localhost:8080/",
          "height": 170
        }
      },
      "source": [
        "combined_names_df.dropna(inplace=True)\n",
        "combined_names_df.info()"
      ],
      "execution_count": 0,
      "outputs": [
        {
          "output_type": "stream",
          "text": [
            "<class 'pandas.core.frame.DataFrame'>\n",
            "Int64Index: 60399 entries, 0 to 60453\n",
            "Data columns (total 4 columns):\n",
            "name             60399 non-null object\n",
            "gender           60399 non-null object\n",
            "race             60399 non-null object\n",
            "real_0/fake_1    60399 non-null int64\n",
            "dtypes: int64(1), object(3)\n",
            "memory usage: 2.3+ MB\n"
          ],
          "name": "stdout"
        }
      ]
    },
    {
      "cell_type": "code",
      "metadata": {
        "id": "8Ub-aB2-qXmD",
        "colab_type": "code",
        "outputId": "8c9196a8-0041-4505-866b-1f2687842c65",
        "colab": {
          "base_uri": "https://localhost:8080/",
          "height": 187
        }
      },
      "source": [
        "le = LabelEncoder()\n",
        "le.fit(combined_names_df.gender)\n",
        "print(le.classes_)\n",
        "encoded_gender = le.transform(combined_names_df.gender)\n",
        "combined_names_df.gender = encoded_gender\n",
        "combined_names_df.info()"
      ],
      "execution_count": 0,
      "outputs": [
        {
          "output_type": "stream",
          "text": [
            "['f' 'm']\n",
            "<class 'pandas.core.frame.DataFrame'>\n",
            "Int64Index: 60399 entries, 0 to 60453\n",
            "Data columns (total 4 columns):\n",
            "name             60399 non-null object\n",
            "gender           60399 non-null int64\n",
            "race             60399 non-null object\n",
            "real_0/fake_1    60399 non-null int64\n",
            "dtypes: int64(2), object(2)\n",
            "memory usage: 2.3+ MB\n"
          ],
          "name": "stdout"
        }
      ]
    },
    {
      "cell_type": "code",
      "metadata": {
        "id": "xiARjYuBq6YP",
        "colab_type": "code",
        "outputId": "3d7cecfa-0b05-48d1-98b6-15282417b1f7",
        "colab": {
          "base_uri": "https://localhost:8080/",
          "height": 68
        }
      },
      "source": [
        "combined_names_df.name = combined_names_df.name.str.lower()\n",
        "combines_names_X = combined_names_df[\"name\"]\n",
        "combined_names_y = combined_names_df[\"real_0/fake_1\"]\n",
        "\n",
        "X_train, X_test, y_train, y_test = train_test_split(combines_names_X, combined_names_y, \n",
        "                                                    test_size=0.25, random_state=42)\n",
        "print(X_train.shape, y_train.shape, X_test.shape, y_test.shape)\n",
        "\n",
        "count_vectorizer = CountVectorizer(stop_words='english')\n",
        "count_train = count_vectorizer.fit_transform(X_train, y_train)\n",
        "count_test = count_vectorizer.transform(X_test)\n",
        "\n",
        "tfidf_vectorizer = TfidfVectorizer(stop_words='english')\n",
        "tfidf_train = tfidf_vectorizer.fit_transform(X_train, y_train)\n",
        "tfidf_test = tfidf_vectorizer.transform(X_test)\n",
        "\n",
        "print(count_vectorizer.get_feature_names()[:10])\n",
        "print(tfidf_vectorizer.get_feature_names()[:10])"
      ],
      "execution_count": 0,
      "outputs": [
        {
          "output_type": "stream",
          "text": [
            "(45299,) (45299,) (15100,) (15100,)\n",
            "['02', '0hm', '0huithd2i', '0ia', '0knaree', '0mk', '0msiako', '0n', '0वन', '105']\n",
            "['02', '0hm', '0huithd2i', '0ia', '0knaree', '0mk', '0msiako', '0n', '0वन', '105']\n"
          ],
          "name": "stdout"
        }
      ]
    },
    {
      "cell_type": "code",
      "metadata": {
        "id": "s8ChroUn-XMD",
        "colab_type": "code",
        "outputId": "f58c7151-9b62-4928-db24-0290b2f567cd",
        "colab": {
          "base_uri": "https://localhost:8080/",
          "height": 34
        }
      },
      "source": [
        "multiNB_model = MultinomialNB(alpha=0.1)\n",
        "multiNB_model.fit(count_train, y_train)\n",
        "count_preds = multiNB_model.predict(count_test)\n",
        "print(\"Accuracy score by Count Vectorizer and Multinomial Naive Bayes: \" + str(accuracy_score(y_test, count_preds)*100) + \"%\")"
      ],
      "execution_count": 0,
      "outputs": [
        {
          "output_type": "stream",
          "text": [
            "Accuracy score by Count Vectorizer and Multinomial Naive Bayes: 94.45033112582782%\n"
          ],
          "name": "stdout"
        }
      ]
    },
    {
      "cell_type": "code",
      "metadata": {
        "id": "5mqlvu8g-ycq",
        "colab_type": "code",
        "outputId": "94b7913f-f5a5-4cc6-8d25-46e85acb57d1",
        "colab": {
          "base_uri": "https://localhost:8080/",
          "height": 34
        }
      },
      "source": [
        "multiNB_model_tfidf = MultinomialNB(alpha=0.1)\n",
        "multiNB_model_tfidf.fit(tfidf_train, y_train)\n",
        "tfidf_preds = multiNB_model_tfidf.predict(tfidf_test)\n",
        "print(\"Accuracy score by TfIdf Vectorizer and Multinomial Naive Bayes: \" + str(accuracy_score(y_test, tfidf_preds)*100) +\"%\")"
      ],
      "execution_count": 0,
      "outputs": [
        {
          "output_type": "stream",
          "text": [
            "Accuracy score by TfIdf Vectorizer and Multinomial Naive Bayes: 94.38410596026489%\n"
          ],
          "name": "stdout"
        }
      ]
    },
    {
      "cell_type": "code",
      "metadata": {
        "id": "atxh-nIG-5pR",
        "colab_type": "code",
        "outputId": "95805e15-f9f6-4e88-b561-bc4af692ff76",
        "colab": {
          "base_uri": "https://localhost:8080/",
          "height": 34
        }
      },
      "source": [
        "dTree_count_model = DecisionTreeClassifier()\n",
        "dTree_count_model.fit(count_train, y_train)\n",
        "dTree_count_preds = dTree_count_model.predict(count_test)\n",
        "\n",
        "print(\"Accuracy score by Count Vectorizer and Decision Tree Classifier: \" + str(accuracy_score(y_test, dTree_count_preds)*100) +\"%\")"
      ],
      "execution_count": 0,
      "outputs": [
        {
          "output_type": "stream",
          "text": [
            "Accuracy score by Count Vectorizer and Decision Tree Classifier: 61.49006622516556%\n"
          ],
          "name": "stdout"
        }
      ]
    },
    {
      "cell_type": "code",
      "metadata": {
        "colab_type": "code",
        "id": "LCyE5XoJC2Mj",
        "outputId": "570c9b87-99d2-449d-dbe1-a87967093966",
        "colab": {
          "base_uri": "https://localhost:8080/",
          "height": 34
        }
      },
      "source": [
        "dTree_tfidf_model = DecisionTreeClassifier()\n",
        "dTree_tfidf_model.fit(tfidf_train, y_train)\n",
        "dTree_tfidf_preds = dTree_tfidf_model.predict(tfidf_test)\n",
        "\n",
        "print(\"Accuracy score by Tfidf Vectorizer and Decision Tree Classifier: \" + str(accuracy_score(y_test, dTree_tfidf_preds)*100) +\"%\")"
      ],
      "execution_count": 0,
      "outputs": [
        {
          "output_type": "stream",
          "text": [
            "Accuracy score by Tfidf Vectorizer and Decision Tree Classifier: 61.50993377483444%\n"
          ],
          "name": "stdout"
        }
      ]
    },
    {
      "cell_type": "code",
      "metadata": {
        "id": "xe9Dka63_Ot5",
        "colab_type": "code",
        "outputId": "c063855f-99af-4a77-840d-87cbb9eec52a",
        "colab": {
          "base_uri": "https://localhost:8080/",
          "height": 187
        }
      },
      "source": [
        "def is_fake_or_real(name, vectorizer = \"tfidf\", model=\"nb\"):\n",
        "    lower_name = copy.deepcopy(str.lower(name))\n",
        "    name_series = pd.Series(lower_name)\n",
        "    if vectorizer == \"tfidf\":\n",
        "        transformed_name = tfidf_vectorizer.transform(name_series)\n",
        "    else:\n",
        "        transformed_name = count_vectorizer.transform(name_series)\n",
        "        \n",
        "    prediction = multiNB_model_tfidf.predict(transformed_name)\n",
        "    if prediction[0] == 0:\n",
        "        return \"{} is valid\\n\".format(name)\n",
        "    else:\n",
        "        return \"{} is invalid\\n\".format(name)\n",
        "\n",
        "print(is_fake_or_real(\"gurpreet\"))\n",
        "print(is_fake_or_real(\"justin\"))\n",
        "print(is_fake_or_real(\"sjbfhsb\"))\n",
        "print(is_fake_or_real(\"raju\"))\n",
        "print(is_fake_or_real(\"adfv\"))"
      ],
      "execution_count": 0,
      "outputs": [
        {
          "output_type": "stream",
          "text": [
            "gurpreet is valid\n",
            "\n",
            "justin is valid\n",
            "\n",
            "sjbfhsb is invalid\n",
            "\n",
            "raju is valid\n",
            "\n",
            "adfv is invalid\n",
            "\n"
          ],
          "name": "stdout"
        }
      ]
    },
    {
      "cell_type": "code",
      "metadata": {
        "id": "fe41glzrOX65",
        "colab_type": "code",
        "colab": {}
      },
      "source": [
        "import tensorflow as tf\n",
        "from tensorflow.python.keras.models import Sequential\n",
        "from tensorflow.python.keras.layers import Dense, GRU, Embedding\n",
        "from tensorflow.python.keras.optimizers import Adam\n",
        "from tensorflow.python.keras.preprocessing.text import Tokenizer\n",
        "from tensorflow.python.keras.preprocessing.sequence import pad_sequences\n",
        "from nltk.corpus import stopwords \n",
        "from tensorflow.contrib.tensorboard.plugins import projector\n"
      ],
      "execution_count": 0,
      "outputs": []
    },
    {
      "cell_type": "code",
      "metadata": {
        "id": "laPzUR6hOf_r",
        "colab_type": "code",
        "colab": {}
      },
      "source": [
        "num_words = 20000\n",
        "tokenizer = Tokenizer(num_words=num_words)\n",
        "data_text = combined_names_df.name\n",
        "tokenizer.fit_on_texts(X_train)"
      ],
      "execution_count": 0,
      "outputs": []
    },
    {
      "cell_type": "code",
      "metadata": {
        "id": "AHhki_7iO31t",
        "colab_type": "code",
        "outputId": "5593e15a-11f1-42c0-e515-05213d275abf",
        "colab": {
          "base_uri": "https://localhost:8080/",
          "height": 1000
        }
      },
      "source": [
        "tokenizer.word_index"
      ],
      "execution_count": 0,
      "outputs": [
        {
          "output_type": "execute_result",
          "data": {
            "text/plain": [
              "{'kumar': 1,\n",
              " 'singh': 2,\n",
              " 'devi': 3,\n",
              " 'smt': 4,\n",
              " 'a': 5,\n",
              " 'kumari': 6,\n",
              " 'o': 7,\n",
              " 'pooja': 8,\n",
              " 'sharma': 9,\n",
              " 'ram': 10,\n",
              " 's': 11,\n",
              " 'i': 12,\n",
              " 'r': 13,\n",
              " 'lal': 14,\n",
              " 'm': 15,\n",
              " 'n': 16,\n",
              " 'h': 17,\n",
              " 'jyoti': 18,\n",
              " 'd': 19,\n",
              " 'mohd': 20,\n",
              " 'deepak': 21,\n",
              " 'sunita': 22,\n",
              " 'u': 23,\n",
              " 'rahul': 24,\n",
              " 'e': 25,\n",
              " 'rekha': 26,\n",
              " 'yadav': 27,\n",
              " 'poonam': 28,\n",
              " 'mamta': 29,\n",
              " 'sonu': 30,\n",
              " 'bai': 31,\n",
              " 'k': 32,\n",
              " 'chand': 33,\n",
              " 'neha': 34,\n",
              " 'amit': 35,\n",
              " 'suman': 36,\n",
              " 'nisha': 37,\n",
              " 'gupta': 38,\n",
              " 'seema': 39,\n",
              " 'laxmi': 40,\n",
              " 'meena': 41,\n",
              " 'khan': 42,\n",
              " 'kaur': 43,\n",
              " 'priyanka': 44,\n",
              " 'sanjay': 45,\n",
              " 'soni': 46,\n",
              " 'anita': 47,\n",
              " 'l': 48,\n",
              " 'sunil': 49,\n",
              " 'ravi': 50,\n",
              " 'raj': 51,\n",
              " 'raju': 52,\n",
              " 'pinki': 53,\n",
              " 'kajal': 54,\n",
              " 'kavita': 55,\n",
              " 'ajay': 56,\n",
              " 'vijay': 57,\n",
              " 'manju': 58,\n",
              " 'rani': 59,\n",
              " 't': 60,\n",
              " 'preeti': 61,\n",
              " 'rajesh': 62,\n",
              " 'manish': 63,\n",
              " 'mukesh': 64,\n",
              " 'manoj': 65,\n",
              " 'rohit': 66,\n",
              " 'geeta': 67,\n",
              " 'sandeep': 68,\n",
              " 'aarti': 69,\n",
              " 'aa': 70,\n",
              " 'komal': 71,\n",
              " 'anil': 72,\n",
              " 'pal': 73,\n",
              " 'santosh': 74,\n",
              " 'ali': 75,\n",
              " 'kiran': 76,\n",
              " 'manisha': 77,\n",
              " 'monika': 78,\n",
              " 'renu': 79,\n",
              " 'w': 80,\n",
              " 'ashok': 81,\n",
              " 'reena': 82,\n",
              " 'km': 83,\n",
              " 'with': 84,\n",
              " 'md': 85,\n",
              " 'priya': 86,\n",
              " 'jain': 87,\n",
              " 'p': 88,\n",
              " 'rakesh': 89,\n",
              " 'asha': 90,\n",
              " 'neelam': 91,\n",
              " 'anjali': 92,\n",
              " 'suraj': 93,\n",
              " 'v': 94,\n",
              " 'suresh': 95,\n",
              " 'sangeeta': 96,\n",
              " 'pawan': 97,\n",
              " 'dinesh': 98,\n",
              " 'vinod': 99,\n",
              " 'sapna': 100,\n",
              " 'babita': 101,\n",
              " 'shivani': 102,\n",
              " 'anju': 103,\n",
              " 'arti': 104,\n",
              " 'vishal': 105,\n",
              " 'neetu': 106,\n",
              " 'b': 107,\n",
              " 'parveen': 108,\n",
              " 'j': 109,\n",
              " 'mishra': 110,\n",
              " 'monu': 111,\n",
              " 'prakash': 112,\n",
              " 'mohan': 113,\n",
              " 'rakhi': 114,\n",
              " 'radha': 115,\n",
              " 'pankaj': 116,\n",
              " 'ankit': 117,\n",
              " 'rajni': 118,\n",
              " 'urf': 119,\n",
              " 'saini': 120,\n",
              " 'kishan': 121,\n",
              " 'deepa': 122,\n",
              " 'khatoon': 123,\n",
              " 'savita': 124,\n",
              " 'verma': 125,\n",
              " 'neeraj': 126,\n",
              " 'pushpa': 127,\n",
              " 'bano': 128,\n",
              " 'ramesh': 129,\n",
              " 'prem': 130,\n",
              " 'kanchan': 131,\n",
              " 'arun': 132,\n",
              " 'ku': 133,\n",
              " 'madhu': 134,\n",
              " 'gaurav': 135,\n",
              " 'mohit': 136,\n",
              " 'vikash': 137,\n",
              " 'sarita': 138,\n",
              " 'na': 139,\n",
              " 'satish': 140,\n",
              " 'abhishek': 141,\n",
              " 'sachin': 142,\n",
              " 'g': 143,\n",
              " 'bharti': 144,\n",
              " 'maya': 145,\n",
              " 'sonia': 146,\n",
              " 'sumit': 147,\n",
              " 'ravinder': 148,\n",
              " 'shiv': 149,\n",
              " 'sh': 150,\n",
              " 'usha': 151,\n",
              " 'heena': 152,\n",
              " 'om': 153,\n",
              " 'tiwari': 154,\n",
              " 'naresh': 155,\n",
              " 'jha': 156,\n",
              " 'khatun': 157,\n",
              " 'y': 158,\n",
              " 'sagar': 159,\n",
              " 'soniya': 160,\n",
              " 'chander': 161,\n",
              " 'lalita': 162,\n",
              " 'am': 163,\n",
              " 'aman': 164,\n",
              " 'meenu': 165,\n",
              " 'ai': 166,\n",
              " 'parkash': 167,\n",
              " 'sonam': 168,\n",
              " 'mr': 169,\n",
              " 'c': 170,\n",
              " 'as': 171,\n",
              " 'karan': 172,\n",
              " 'shyam': 173,\n",
              " 'jai': 174,\n",
              " 'saroj': 175,\n",
              " 'kanwar': 176,\n",
              " 'priti': 177,\n",
              " 'praveen': 178,\n",
              " 'annu': 179,\n",
              " 'kamlesh': 180,\n",
              " 'akash': 181,\n",
              " 'ra': 182,\n",
              " 'jitender': 183,\n",
              " 'kuldeep': 184,\n",
              " 'babu': 185,\n",
              " 'sanju': 186,\n",
              " 'chauhan': 187,\n",
              " 'ia': 188,\n",
              " 'prasad': 189,\n",
              " 'vicky': 190,\n",
              " 'surender': 191,\n",
              " 'kamla': 192,\n",
              " 'rinki': 193,\n",
              " 'ma': 194,\n",
              " 'varsha': 195,\n",
              " 'ha': 196,\n",
              " 'dass': 197,\n",
              " 'rai': 198,\n",
              " 'pandey': 199,\n",
              " 'rawat': 200,\n",
              " 'muskan': 201,\n",
              " 'shankar': 202,\n",
              " 'shalu': 203,\n",
              " 'sanjeev': 204,\n",
              " 'rajkumar': 205,\n",
              " 'chandni': 206,\n",
              " 'mahesh': 207,\n",
              " 'pappu': 208,\n",
              " 'krishan': 209,\n",
              " 'puja': 210,\n",
              " 'chanchal': 211,\n",
              " 'ar': 212,\n",
              " 'shri': 213,\n",
              " 'raja': 214,\n",
              " 'nitin': 215,\n",
              " 'narender': 216,\n",
              " 'meera': 217,\n",
              " 'reshma': 218,\n",
              " 'payal': 219,\n",
              " 'simran': 220,\n",
              " 'an': 221,\n",
              " 'abdul': 222,\n",
              " 'dev': 223,\n",
              " 'harish': 224,\n",
              " 'child': 225,\n",
              " 'rajender': 226,\n",
              " 'babli': 227,\n",
              " 'vikas': 228,\n",
              " 'virender': 229,\n",
              " 'ritu': 230,\n",
              " 'sa': 231,\n",
              " 'her': 232,\n",
              " 'kamal': 233,\n",
              " 'rubi': 234,\n",
              " 'narayan': 235,\n",
              " 'shivam': 236,\n",
              " 'kalu': 237,\n",
              " 'vivek': 238,\n",
              " 'lata': 239,\n",
              " 'gopal': 240,\n",
              " 'bablu': 241,\n",
              " 'bahadur': 242,\n",
              " 'sahil': 243,\n",
              " 'roshan': 244,\n",
              " 'pradeep': 245,\n",
              " 'rinku': 246,\n",
              " 'mandal': 247,\n",
              " 'ta': 248,\n",
              " 'miss': 249,\n",
              " 'alam': 250,\n",
              " 'gulshan': 251,\n",
              " 'krishna': 252,\n",
              " 'archana': 253,\n",
              " 'gudiya': 254,\n",
              " 'ae': 255,\n",
              " 'ka': 256,\n",
              " 'rajeev': 257,\n",
              " 'munni': 258,\n",
              " 'durga': 259,\n",
              " 'ahmad': 260,\n",
              " 'arjun': 261,\n",
              " 'kishor': 262,\n",
              " 'jagdish': 263,\n",
              " 'subhash': 264,\n",
              " 'mahender': 265,\n",
              " 'ashu': 266,\n",
              " 'divya': 267,\n",
              " 'mona': 268,\n",
              " 'ah': 269,\n",
              " 'atul': 270,\n",
              " 'vikram': 271,\n",
              " 'vinay': 272,\n",
              " 'anand': 273,\n",
              " 'sheetal': 274,\n",
              " 'ganga': 275,\n",
              " 'rana': 276,\n",
              " 'hussain': 277,\n",
              " 'ashish': 278,\n",
              " 'minakshi': 279,\n",
              " 'dharmender': 280,\n",
              " 'arvind': 281,\n",
              " 'ua': 282,\n",
              " 'devender': 283,\n",
              " 'bharat': 284,\n",
              " 'sunder': 285,\n",
              " 'da': 286,\n",
              " 'pinky': 287,\n",
              " 'chanda': 288,\n",
              " 'kapil': 289,\n",
              " 'hemlata': 290,\n",
              " 'shanti': 291,\n",
              " 'uma': 292,\n",
              " 'laxman': 293,\n",
              " 'ea': 294,\n",
              " 'baby': 295,\n",
              " 'sita': 296,\n",
              " 'sumitra': 297,\n",
              " 'ni': 298,\n",
              " 'garg': 299,\n",
              " 'nidhi': 300,\n",
              " 'chandra': 301,\n",
              " 'urmila': 302,\n",
              " 'nath': 303,\n",
              " 'lokesh': 304,\n",
              " 'shah': 305,\n",
              " 'das': 306,\n",
              " 'swati': 307,\n",
              " 'thakur': 308,\n",
              " 'sheela': 309,\n",
              " 'roshni': 310,\n",
              " 'khushbu': 311,\n",
              " 'kailash': 312,\n",
              " 'hema': 313,\n",
              " 'nna': 314,\n",
              " 'yogesh': 315,\n",
              " 'ahmed': 316,\n",
              " 'govind': 317,\n",
              " 'sushma': 318,\n",
              " 'vimla': 319,\n",
              " 'leela': 320,\n",
              " 'pardeep': 321,\n",
              " 'al': 322,\n",
              " 'age': 323,\n",
              " 'naveen': 324,\n",
              " 'sweta': 325,\n",
              " 'bhawna': 326,\n",
              " 'kishore': 327,\n",
              " 'pramod': 328,\n",
              " 'golu': 329,\n",
              " 'au': 330,\n",
              " 'madan': 331,\n",
              " 'ad': 332,\n",
              " 'kanta': 333,\n",
              " 'shashi': 334,\n",
              " 'radhika': 335,\n",
              " 'ruksana': 336,\n",
              " 'doli': 337,\n",
              " 'pintu': 338,\n",
              " 'kour': 339,\n",
              " 'anuj': 340,\n",
              " 'sandhya': 341,\n",
              " 'lalit': 342,\n",
              " 'nitu': 343,\n",
              " 'deepika': 344,\n",
              " 'chandan': 345,\n",
              " 'at': 346,\n",
              " 'nand': 347,\n",
              " 'hari': 348,\n",
              " 'nagma': 349,\n",
              " 'salman': 350,\n",
              " 'shabnam': 351,\n",
              " 'lali': 352,\n",
              " 'kusum': 353,\n",
              " 'ak': 354,\n",
              " 'parwati': 355,\n",
              " 'ur': 356,\n",
              " 'imran': 357,\n",
              " 'sangita': 358,\n",
              " 'vipin': 359,\n",
              " 'aasha': 360,\n",
              " 'parsad': 361,\n",
              " 'sharda': 362,\n",
              " 'shikha': 363,\n",
              " 'khusbu': 364,\n",
              " 'rubina': 365,\n",
              " 'la': 366,\n",
              " 'khushi': 367,\n",
              " 'sushil': 368,\n",
              " 'mohammad': 369,\n",
              " 'rachna': 370,\n",
              " 'sm': 371,\n",
              " 'shiwani': 372,\n",
              " 'tyagi': 373,\n",
              " 'munna': 374,\n",
              " 'negi': 375,\n",
              " 'son': 376,\n",
              " 'sushila': 377,\n",
              " 'malik': 378,\n",
              " 'ruby': 379,\n",
              " 'rita': 380,\n",
              " 'kali': 381,\n",
              " 'paswan': 382,\n",
              " 'javed': 383,\n",
              " 'shiva': 384,\n",
              " 'ri': 385,\n",
              " 'joshi': 386,\n",
              " 'indra': 387,\n",
              " 'tulsi': 388,\n",
              " 'er': 389,\n",
              " 'bansal': 390,\n",
              " 'jaya': 391,\n",
              " 'uk': 392,\n",
              " 'ir': 393,\n",
              " 'vishnu': 394,\n",
              " 'av': 395,\n",
              " 'ao': 396,\n",
              " 'noor': 397,\n",
              " 'daughter': 398,\n",
              " 'amar': 399,\n",
              " 'nr': 400,\n",
              " 'jat': 401,\n",
              " 'sn': 402,\n",
              " 'shree': 403,\n",
              " 'kapoor': 404,\n",
              " 'in': 405,\n",
              " 'guddi': 406,\n",
              " 'bhawana': 407,\n",
              " 'aakash': 408,\n",
              " 'prince': 409,\n",
              " 'amir': 410,\n",
              " 'begam': 411,\n",
              " 'himanshu': 412,\n",
              " 'is': 413,\n",
              " 'seeta': 414,\n",
              " 'meenakshi': 415,\n",
              " 'ruksar': 416,\n",
              " 'ns': 417,\n",
              " 'arif': 418,\n",
              " 'श्रीमती': 419,\n",
              " 'or': 420,\n",
              " 'rupa': 421,\n",
              " 'dutt': 422,\n",
              " 'ann': 423,\n",
              " 'afsana': 424,\n",
              " 'aggarwal': 425,\n",
              " 'choudhary': 426,\n",
              " 'nikita': 427,\n",
              " 'ansari': 428,\n",
              " 'parmod': 429,\n",
              " 'manjeet': 430,\n",
              " 'khushboo': 431,\n",
              " 'bimla': 432,\n",
              " 'barkha': 433,\n",
              " 'ranjeet': 434,\n",
              " 'anuradha': 435,\n",
              " 'kr': 436,\n",
              " 'sunny': 437,\n",
              " 'rashmi': 438,\n",
              " 'guddu': 439,\n",
              " 'anshu': 440,\n",
              " 'arora': 441,\n",
              " 'hemant': 442,\n",
              " 'anjli': 443,\n",
              " 'bhagwan': 444,\n",
              " 'eh': 445,\n",
              " 'kunwar': 446,\n",
              " 'tarun': 447,\n",
              " 'mehto': 448,\n",
              " 'goyal': 449,\n",
              " 'chaudhary': 450,\n",
              " 'gautam': 451,\n",
              " 'nikhil': 452,\n",
              " 'aj': 453,\n",
              " 'su': 454,\n",
              " 'sahu': 455,\n",
              " 'sameer': 456,\n",
              " 'nh': 457,\n",
              " 'kashyap': 458,\n",
              " 'nan': 459,\n",
              " 'shabana': 460,\n",
              " 'si': 461,\n",
              " 'vinita': 462,\n",
              " 'vandana': 463,\n",
              " 'kirti': 464,\n",
              " 'beena': 465,\n",
              " 'ms': 466,\n",
              " 'kartik': 467,\n",
              " 'rr': 468,\n",
              " 'rh': 469,\n",
              " 'hs': 470,\n",
              " 'sarkar': 471,\n",
              " 'ajit': 472,\n",
              " 'mi': 473,\n",
              " 'bala': 474,\n",
              " 'mehta': 475,\n",
              " 'nitesh': 476,\n",
              " 'sabnam': 477,\n",
              " 'hn': 478,\n",
              " 'mithlesh': 479,\n",
              " 'amarjeet': 480,\n",
              " 'bhola': 481,\n",
              " 'salim': 482,\n",
              " 'moni': 483,\n",
              " 'deepu': 484,\n",
              " 'harsh': 485,\n",
              " 'tomar': 486,\n",
              " 'oa': 487,\n",
              " 'pratap': 488,\n",
              " 'karishma': 489,\n",
              " '2': 490,\n",
              " 'rs': 491,\n",
              " 'satpal': 492,\n",
              " 'kala': 493,\n",
              " 'and': 494,\n",
              " 'saurabh': 495,\n",
              " 'rajiv': 496,\n",
              " 'gayatri': 497,\n",
              " 'puran': 498,\n",
              " 'sonali': 499,\n",
              " 'ui': 500,\n",
              " 'dheeraj': 501,\n",
              " 'shubham': 502,\n",
              " 'sr': 503,\n",
              " 'jahan': 504,\n",
              " 'ganesh': 505,\n",
              " 'hr': 506,\n",
              " 'rajendra': 507,\n",
              " 'sen': 508,\n",
              " 'ru': 509,\n",
              " 'rajkumari': 510,\n",
              " 'va': 511,\n",
              " 'ih': 512,\n",
              " 'subham': 513,\n",
              " 'charan': 514,\n",
              " 'rajan': 515,\n",
              " 'saraswati': 516,\n",
              " 'sona': 517,\n",
              " 'bhagwati': 518,\n",
              " 'manpreet': 519,\n",
              " 'riya': 520,\n",
              " 'kant': 521,\n",
              " 'pa': 522,\n",
              " 'ashwani': 523,\n",
              " 'shahid': 524,\n",
              " 'jitendra': 525,\n",
              " 'madhuri': 526,\n",
              " 'f': 527,\n",
              " 'nirmal': 528,\n",
              " 'versha': 529,\n",
              " 'alka': 530,\n",
              " 'rama': 531,\n",
              " 'two': 532,\n",
              " 'shobha': 533,\n",
              " 'ne': 534,\n",
              " 'rm': 535,\n",
              " 'jatin': 536,\n",
              " 'rk': 537,\n",
              " 'man': 538,\n",
              " 'megha': 539,\n",
              " 'roshani': 540,\n",
              " 'varun': 541,\n",
              " 'ss': 542,\n",
              " '0': 543,\n",
              " 'agarwal': 544,\n",
              " 'rajat': 545,\n",
              " 'salma': 546,\n",
              " 'anjum': 547,\n",
              " 'mo': 548,\n",
              " 'it': 549,\n",
              " 'rajani': 550,\n",
              " 'mayank': 551,\n",
              " 'no': 552,\n",
              " 'ekta': 553,\n",
              " 'yash': 554,\n",
              " 'roopa': 555,\n",
              " 'tara': 556,\n",
              " 'hansraj': 557,\n",
              " 'es': 558,\n",
              " 'mu': 559,\n",
              " 'sudhir': 560,\n",
              " 'akshay': 561,\n",
              " 'saddam': 562,\n",
              " 'avinash': 563,\n",
              " 'noni': 564,\n",
              " 'chopra': 565,\n",
              " 'reeta': 566,\n",
              " 'nirmala': 567,\n",
              " 'mamata': 568,\n",
              " 'thapa': 569,\n",
              " 'bhanu': 570,\n",
              " 'ranjana': 571,\n",
              " 'us': 572,\n",
              " 'moh': 573,\n",
              " 'begum': 574,\n",
              " 'sk': 575,\n",
              " 'vimal': 576,\n",
              " 'vd': 577,\n",
              " 'rukhsana': 578,\n",
              " 'partap': 579,\n",
              " 'aslam': 580,\n",
              " 'anurag': 581,\n",
              " 'giri': 582,\n",
              " 'ana': 583,\n",
              " 'bairwa': 584,\n",
              " 'mala': 585,\n",
              " 'aditya': 586,\n",
              " 'irfan': 587,\n",
              " 'gulab': 588,\n",
              " 'amrita': 589,\n",
              " 'bhupender': 590,\n",
              " 'ratan': 591,\n",
              " 'ramu': 592,\n",
              " 'kundan': 593,\n",
              " 'ishwar': 594,\n",
              " 'panday': 595,\n",
              " 'sabana': 596,\n",
              " 'anwar': 597,\n",
              " 'ja': 598,\n",
              " 'raman': 599,\n",
              " 'omprakash': 600,\n",
              " 'se': 601,\n",
              " 'champa': 602,\n",
              " 'danish': 603,\n",
              " 'ay': 604,\n",
              " 'rukhsar': 605,\n",
              " 'archna': 606,\n",
              " 'km0': 607,\n",
              " 'rn': 608,\n",
              " 'ankur': 609,\n",
              " 'himanshi': 610,\n",
              " 'shrimati': 611,\n",
              " 'mm': 612,\n",
              " 'reetu': 613,\n",
              " 'bhan': 614,\n",
              " 'davi': 615,\n",
              " 'sana': 616,\n",
              " 'ik': 617,\n",
              " 'bindu': 618,\n",
              " 'aoopj': 619,\n",
              " 'mansi': 620,\n",
              " 're': 621,\n",
              " 'sakshi': 622,\n",
              " 'sudesh': 623,\n",
              " 'surendra': 624,\n",
              " 'im': 625,\n",
              " 'satyam': 626,\n",
              " 'parvesh': 627,\n",
              " 'akram': 628,\n",
              " 'nu': 629,\n",
              " 'balram': 630,\n",
              " 'purnima': 631,\n",
              " 'ts': 632,\n",
              " 'oajop': 633,\n",
              " 'li': 634,\n",
              " 'tannu': 635,\n",
              " 'sohan': 636,\n",
              " 'hm': 637,\n",
              " 'yashoda': 638,\n",
              " 'jatav': 639,\n",
              " 'nanu': 640,\n",
              " 'children': 641,\n",
              " 'ee': 642,\n",
              " 'sitara': 643,\n",
              " 'krishana': 644,\n",
              " 'id': 645,\n",
              " 'ara': 646,\n",
              " 'firoz': 647,\n",
              " 'rina': 648,\n",
              " 'harpreet': 649,\n",
              " 'kalpana': 650,\n",
              " 'bhatt': 651,\n",
              " 'satender': 652,\n",
              " 'tr': 653,\n",
              " 'ue': 654,\n",
              " 'banwari': 655,\n",
              " 'dm': 656,\n",
              " 'sher': 657,\n",
              " 'gaytri': 658,\n",
              " 'nirmla': 659,\n",
              " 'mahendra': 660,\n",
              " 'bhardwaj': 661,\n",
              " 'lh': 662,\n",
              " 'raghav': 663,\n",
              " 'vimlesh': 664,\n",
              " 'gurjar': 665,\n",
              " 'punit': 666,\n",
              " 'veena': 667,\n",
              " 'veer': 668,\n",
              " 'pandit': 669,\n",
              " 'ei': 670,\n",
              " 'yogender': 671,\n",
              " 'ab': 672,\n",
              " 'yrs': 673,\n",
              " 'dimpal': 674,\n",
              " 'vandna': 675,\n",
              " 'mohamad': 676,\n",
              " 'hasan': 677,\n",
              " 'aaa': 678,\n",
              " 'mh': 679,\n",
              " 'phool': 680,\n",
              " 'mahaveer': 681,\n",
              " 'nilam': 682,\n",
              " 'apooj': 683,\n",
              " 'mumtaj': 684,\n",
              " 'years': 685,\n",
              " 'isha': 686,\n",
              " 'chawla': 687,\n",
              " 'diksha': 688,\n",
              " 'mali': 689,\n",
              " 'rt': 690,\n",
              " 'mohini': 691,\n",
              " 'sanjana': 692,\n",
              " 'shalini': 693,\n",
              " 'deep': 694,\n",
              " 'his': 695,\n",
              " 'akhtar': 696,\n",
              " 'ajeet': 697,\n",
              " 'oaopj': 698,\n",
              " 'mho': 699,\n",
              " 'mn': 700,\n",
              " 'bisht': 701,\n",
              " 'rajbala': 702,\n",
              " 'rizwan': 703,\n",
              " 'lila': 704,\n",
              " 'bhagat': 705,\n",
              " 'dhan': 706,\n",
              " 'satya': 707,\n",
              " 'hasina': 708,\n",
              " 'nar': 709,\n",
              " 'piyush': 710,\n",
              " 'shahrukh': 711,\n",
              " 'nayak': 712,\n",
              " 'ravina': 713,\n",
              " 'reema': 714,\n",
              " 'gourav': 715,\n",
              " 'dilip': 716,\n",
              " 'brijesh': 717,\n",
              " 'tina': 718,\n",
              " 'kha': 719,\n",
              " 'ls': 720,\n",
              " 'ruchi': 721,\n",
              " 'chotu': 722,\n",
              " 'nm': 723,\n",
              " 'punam': 724,\n",
              " 'firoj': 725,\n",
              " 'tinku': 726,\n",
              " 'sarvesh': 727,\n",
              " 'akhilesh': 728,\n",
              " 'mangal': 729,\n",
              " 'raa': 730,\n",
              " 'iu': 731,\n",
              " 'en': 732,\n",
              " 'dharam': 733,\n",
              " 'preety': 734,\n",
              " 'kh': 735,\n",
              " 'um': 736,\n",
              " 'savitri': 737,\n",
              " 'surjeet': 738,\n",
              " 'kasim': 739,\n",
              " 'malti': 740,\n",
              " 'ash': 741,\n",
              " 'lala': 742,\n",
              " 'sajid': 743,\n",
              " 'dolly': 744,\n",
              " 'ba': 745,\n",
              " 'ek': 746,\n",
              " 'ayush': 747,\n",
              " 'opjoa': 748,\n",
              " 'kumawat': 749,\n",
              " 'abhay': 750,\n",
              " 'banu': 751,\n",
              " 'sain': 752,\n",
              " 'alongwith': 753,\n",
              " 'goswami': 754,\n",
              " 'nikki': 755,\n",
              " 'devki': 756,\n",
              " 'on': 757,\n",
              " 'ie': 758,\n",
              " 'shayam': 759,\n",
              " 'puspa': 760,\n",
              " 'vinit': 761,\n",
              " 'azad': 762,\n",
              " 'satyanarayan': 763,\n",
              " 'baljeet': 764,\n",
              " 'ahuja': 765,\n",
              " 'shukla': 766,\n",
              " 'tushar': 767,\n",
              " 'shakuntla': 768,\n",
              " 'garima': 769,\n",
              " 'prashant': 770,\n",
              " 'bhushan': 771,\n",
              " 'shambhu': 772,\n",
              " 'ng': 773,\n",
              " 'gorav': 774,\n",
              " 'hane': 775,\n",
              " 'asah': 776,\n",
              " 'jeet': 777,\n",
              " 'rehman': 778,\n",
              " 'mannu': 779,\n",
              " 'bijender': 780,\n",
              " 'mukul': 781,\n",
              " 'anjana': 782,\n",
              " 'hariom': 783,\n",
              " 'alias': 784,\n",
              " 'firdosh': 785,\n",
              " 'sneha': 786,\n",
              " 'sam': 787,\n",
              " 'me': 788,\n",
              " 'dipika': 789,\n",
              " 'gujar': 790,\n",
              " 'nargish': 791,\n",
              " 'rajbir': 792,\n",
              " 'ti': 793,\n",
              " 'sudha': 794,\n",
              " 'aashu': 795,\n",
              " 'ranju': 796,\n",
              " 'ojoap': 797,\n",
              " 'eu': 798,\n",
              " 'sahni': 799,\n",
              " 'nt': 800,\n",
              " 'kanti': 801,\n",
              " 'naina': 802,\n",
              " 'prashad': 803,\n",
              " 'kamini': 804,\n",
              " 'arman': 805,\n",
              " 'neeru': 806,\n",
              " 'aar': 807,\n",
              " 'lakshmi': 808,\n",
              " 'rishi': 809,\n",
              " 'dh': 810,\n",
              " 'anu': 811,\n",
              " 'kunal': 812,\n",
              " 'ga': 813,\n",
              " 'upender': 814,\n",
              " 'et': 815,\n",
              " 'rao': 816,\n",
              " 'shakshi': 817,\n",
              " 'vr': 818,\n",
              " 'hnae': 819,\n",
              " 'joginder': 820,\n",
              " 'hk': 821,\n",
              " 'chandani': 822,\n",
              " 'vaishali': 823,\n",
              " 'shilpa': 824,\n",
              " 'radhey': 825,\n",
              " 'ya': 826,\n",
              " 'disha': 827,\n",
              " 'ki': 828,\n",
              " 'ml': 829,\n",
              " 'balbir': 830,\n",
              " '1': 831,\n",
              " 'malhotra': 832,\n",
              " 'shakuntala': 833,\n",
              " 'ghanshyam': 834,\n",
              " 'rajpoot': 835,\n",
              " 'basanti': 836,\n",
              " 'pojao': 837,\n",
              " 'farjana': 838,\n",
              " 'rashid': 839,\n",
              " 'parul': 840,\n",
              " 'hi': 841,\n",
              " 'shilpi': 842,\n",
              " 'radheshyam': 843,\n",
              " 'rashida': 844,\n",
              " 'huma': 845,\n",
              " 'sahid': 846,\n",
              " 'gori': 847,\n",
              " 'sah': 848,\n",
              " 'rl': 849,\n",
              " 'nadeem': 850,\n",
              " 'harender': 851,\n",
              " 'ratni': 852,\n",
              " 'chaman': 853,\n",
              " 'manav': 854,\n",
              " 'shekhar': 855,\n",
              " 'sima': 856,\n",
              " 'anish': 857,\n",
              " 'th': 858,\n",
              " 'juhi': 859,\n",
              " 'सुश्री': 860,\n",
              " 'tair': 861,\n",
              " 'anhe': 862,\n",
              " 'kalpna': 863,\n",
              " 'hawa': 864,\n",
              " 'farman': 865,\n",
              " 'adhikari': 866,\n",
              " 'sashi': 867,\n",
              " 'gurpreet': 868,\n",
              " 'ved': 869,\n",
              " 'raghubir': 870,\n",
              " 'balai': 871,\n",
              " 'so': 872,\n",
              " 'nirma': 873,\n",
              " 'tejpal': 874,\n",
              " 'ankush': 875,\n",
              " 'daya': 876,\n",
              " 'mandeep': 877,\n",
              " 'jaiswal': 878,\n",
              " 'aopoj': 879,\n",
              " 'vikrant': 880,\n",
              " 'shekh': 881,\n",
              " 'anchal': 882,\n",
              " 'pavan': 883,\n",
              " 'niwas': 884,\n",
              " 'parshad': 885,\n",
              " 'bibi': 886,\n",
              " 'mtmaa': 887,\n",
              " 'sony': 888,\n",
              " 'umar': 889,\n",
              " 'uu': 890,\n",
              " 'hu': 891,\n",
              " 'banti': 892,\n",
              " 'rima': 893,\n",
              " 'brij': 894,\n",
              " 'umesh': 895,\n",
              " 'dilshad': 896,\n",
              " 'rohan': 897,\n",
              " 'rj': 898,\n",
              " 'rajpal': 899,\n",
              " 'ashutosh': 900,\n",
              " 'aftab': 901,\n",
              " 'bhatia': 902,\n",
              " 'moti': 903,\n",
              " 'nd': 904,\n",
              " 'adil': 905,\n",
              " 'chouhan': 906,\n",
              " 'mohmad': 907,\n",
              " 'aruna': 908,\n",
              " 'mani': 909,\n",
              " 'aw': 910,\n",
              " 'hem': 911,\n",
              " 'unknown': 912,\n",
              " 'amr': 913,\n",
              " 'chetan': 914,\n",
              " 'vimala': 915,\n",
              " 'bunty': 916,\n",
              " 'mra': 917,\n",
              " 'bhandari': 918,\n",
              " 'ev': 919,\n",
              " 'aal': 920,\n",
              " 'rihana': 921,\n",
              " 'rachana': 922,\n",
              " 'shahin': 923,\n",
              " 'nai': 924,\n",
              " 'babloo': 925,\n",
              " 'ajopo': 926,\n",
              " 'jiya': 927,\n",
              " 'prachi': 928,\n",
              " 'joyti': 929,\n",
              " 'neelu': 930,\n",
              " 'ramkumar': 931,\n",
              " 'richa': 932,\n",
              " 'ankita': 933,\n",
              " 'kamala': 934,\n",
              " 'shabina': 935,\n",
              " 'jr': 936,\n",
              " 'bhuri': 937,\n",
              " 'jopao': 938,\n",
              " 'nishant': 939,\n",
              " 'jay': 940,\n",
              " 'satbir': 941,\n",
              " 'ritika': 942,\n",
              " 'samreen': 943,\n",
              " 'du': 944,\n",
              " 'fatima': 945,\n",
              " 'nishu': 946,\n",
              " 'late': 947,\n",
              " 'sikha': 948,\n",
              " 'ravindra': 949,\n",
              " 'ag': 950,\n",
              " 'sobha': 951,\n",
              " 'sardar': 952,\n",
              " 'rampal': 953,\n",
              " 'dr': 954,\n",
              " 'momin': 955,\n",
              " 'asif': 956,\n",
              " 'ray': 957,\n",
              " 'nagar': 958,\n",
              " 'aarif': 959,\n",
              " 'naeh': 960,\n",
              " 'ranjan': 961,\n",
              " 'gauri': 962,\n",
              " 'af': 963,\n",
              " 'teena': 964,\n",
              " 'girish': 965,\n",
              " 'dubey': 966,\n",
              " 'narendra': 967,\n",
              " 'kaushal': 968,\n",
              " 'aashma': 969,\n",
              " 'faisal': 970,\n",
              " 'nargis': 971,\n",
              " 'pajoo': 972,\n",
              " 'gita': 973,\n",
              " 'khatik': 974,\n",
              " 'khalid': 975,\n",
              " 'anoop': 976,\n",
              " 'mohsin': 977,\n",
              " 'smts': 978,\n",
              " 'ranu': 979,\n",
              " 'puri': 980,\n",
              " 'jaipal': 981,\n",
              " 'jasoda': 982,\n",
              " 'hd': 983,\n",
              " 'kn': 984,\n",
              " 'islam': 985,\n",
              " 'ps': 986,\n",
              " 'gurmeet': 987,\n",
              " 'saleem': 988,\n",
              " 'ep': 989,\n",
              " 'lt': 990,\n",
              " 'ramchander': 991,\n",
              " 'sadhna': 992,\n",
              " 'wasim': 993,\n",
              " 'bhavna': 994,\n",
              " 'saha': 995,\n",
              " 'som': 996,\n",
              " 'ajr': 997,\n",
              " 'virendra': 998,\n",
              " 'os': 999,\n",
              " 'shama': 1000,\n",
              " ...}"
            ]
          },
          "metadata": {
            "tags": []
          },
          "execution_count": 28
        }
      ]
    },
    {
      "cell_type": "code",
      "metadata": {
        "id": "tNu7XF_HO_kv",
        "colab_type": "code",
        "colab": {}
      },
      "source": [
        "x_train_tokens = tokenizer.texts_to_sequences(X_train)"
      ],
      "execution_count": 0,
      "outputs": []
    },
    {
      "cell_type": "code",
      "metadata": {
        "id": "h47Xr67gPI6D",
        "colab_type": "code",
        "outputId": "cb0ec0f1-c896-4b75-a282-55276e28c287",
        "colab": {
          "base_uri": "https://localhost:8080/",
          "height": 34
        }
      },
      "source": [
        "X_train[0]"
      ],
      "execution_count": 0,
      "outputs": [
        {
          "output_type": "execute_result",
          "data": {
            "text/plain": [
              "'jafauamrsrad h'"
            ]
          },
          "metadata": {
            "tags": []
          },
          "execution_count": 30
        }
      ]
    },
    {
      "cell_type": "code",
      "metadata": {
        "id": "_UwSJMQNPP7U",
        "colab_type": "code",
        "colab": {}
      },
      "source": [
        "x_test_tokens = tokenizer.texts_to_sequences(X_test)"
      ],
      "execution_count": 0,
      "outputs": []
    },
    {
      "cell_type": "code",
      "metadata": {
        "id": "AdobBjqvRWlh",
        "colab_type": "code",
        "outputId": "25c4fabd-36fe-4431-a046-3bb9f09edf76",
        "colab": {
          "base_uri": "https://localhost:8080/",
          "height": 51
        }
      },
      "source": [
        "num_tokens = [len(tokens) for tokens in x_train_tokens + x_test_tokens]\n",
        "num_tokens = np.array(num_tokens)\n",
        "\n",
        "print(\"Mean tokens: \" + str(np.mean(num_tokens)))\n",
        "print(\"Max tokens: \" + str(np.max(num_tokens)))"
      ],
      "execution_count": 0,
      "outputs": [
        {
          "output_type": "stream",
          "text": [
            "Mean tokens: 1.1543237470819054\n",
            "Max tokens: 13\n"
          ],
          "name": "stdout"
        }
      ]
    },
    {
      "cell_type": "code",
      "metadata": {
        "id": "jHgWmiL6SDi5",
        "colab_type": "code",
        "outputId": "1d628f5d-a9fe-498d-8e98-060bda5ab63e",
        "colab": {
          "base_uri": "https://localhost:8080/",
          "height": 51
        }
      },
      "source": [
        "max_tokens = np.mean(num_tokens) + 2 * np.std(num_tokens)\n",
        "max_tokens = int(max_tokens)\n",
        "print(\"Max tokens: \" + str(max_tokens))\n",
        "print(\"Covers \" + str((np.sum(num_tokens < max_tokens) / len(num_tokens))*100) + \"% of dataset\")"
      ],
      "execution_count": 0,
      "outputs": [
        {
          "output_type": "stream",
          "text": [
            "Max tokens: 3\n",
            "Covers 94.60255964502724% of dataset\n"
          ],
          "name": "stdout"
        }
      ]
    },
    {
      "cell_type": "code",
      "metadata": {
        "id": "O1ADyXNfRk-O",
        "colab_type": "code",
        "colab": {}
      },
      "source": [
        "pad = 'pre'\n",
        "x_train_pad = pad_sequences(x_train_tokens, maxlen=max_tokens,\n",
        "                            padding=pad, truncating=pad)\n",
        "x_test_pad = pad_sequences(x_test_tokens, maxlen=max_tokens,\n",
        "                           padding=pad, truncating=pad)"
      ],
      "execution_count": 0,
      "outputs": []
    },
    {
      "cell_type": "code",
      "metadata": {
        "id": "j-B-HqyXShWm",
        "colab_type": "code",
        "outputId": "3d084f59-b440-427b-d82f-67e33947eb49",
        "colab": {
          "base_uri": "https://localhost:8080/",
          "height": 34
        }
      },
      "source": [
        "x_train_pad.shape, x_test_pad.shape"
      ],
      "execution_count": 0,
      "outputs": [
        {
          "output_type": "execute_result",
          "data": {
            "text/plain": [
              "((45299, 3), (15100, 3))"
            ]
          },
          "metadata": {
            "tags": []
          },
          "execution_count": 35
        }
      ]
    },
    {
      "cell_type": "code",
      "metadata": {
        "id": "cSvDDjNmSlaK",
        "colab_type": "code",
        "outputId": "830fe7bb-4804-4e5e-f552-abdcd1f8df8d",
        "colab": {
          "base_uri": "https://localhost:8080/",
          "height": 323
        }
      },
      "source": [
        "OUTDIR = './Graph'\n",
        "\n",
        "import shutil\n",
        "shutil.rmtree(OUTDIR, ignore_errors = True)\n",
        "\n",
        "model = Sequential()\n",
        "embedding_size=8\n",
        "\n",
        "model.add(Embedding(input_dim=num_words,\n",
        "                    output_dim=embedding_size,\n",
        "                    input_length=max_tokens,\n",
        "                    name='layer_embedding'))\n",
        "model.add(GRU(units=16, return_sequences=True))\n",
        "model.add(GRU(units=8, return_sequences=True))\n",
        "model.add(GRU(units=4))\n",
        "model.add(Dense(1 , activation=\"sigmoid\"))\n",
        "\n",
        "optimizer = Adam(lr=0.001)\n",
        "\n",
        "model.compile(loss='binary_crossentropy',\n",
        "              optimizer=optimizer,\n",
        "              metrics=['accuracy'])\n",
        "\n",
        "model.summary()"
      ],
      "execution_count": 0,
      "outputs": [
        {
          "output_type": "stream",
          "text": [
            "Model: \"sequential_1\"\n",
            "_________________________________________________________________\n",
            "Layer (type)                 Output Shape              Param #   \n",
            "=================================================================\n",
            "layer_embedding (Embedding)  (None, 3, 8)              160000    \n",
            "_________________________________________________________________\n",
            "gru_3 (GRU)                  (None, 3, 16)             1200      \n",
            "_________________________________________________________________\n",
            "gru_4 (GRU)                  (None, 3, 8)              600       \n",
            "_________________________________________________________________\n",
            "gru_5 (GRU)                  (None, 4)                 156       \n",
            "_________________________________________________________________\n",
            "dense_1 (Dense)              (None, 1)                 5         \n",
            "=================================================================\n",
            "Total params: 161,961\n",
            "Trainable params: 161,961\n",
            "Non-trainable params: 0\n",
            "_________________________________________________________________\n"
          ],
          "name": "stdout"
        }
      ]
    },
    {
      "cell_type": "code",
      "metadata": {
        "id": "oinTLIr7hvqq",
        "colab_type": "code",
        "outputId": "204de413-e319-415d-c129-7c950fb6dfd4",
        "colab": {
          "base_uri": "https://localhost:8080/",
          "height": 85
        }
      },
      "source": [
        "from tensorboardcolab import *\n",
        "\n",
        "tbc = TensorBoardColab()"
      ],
      "execution_count": 0,
      "outputs": [
        {
          "output_type": "stream",
          "text": [
            "Using TensorFlow backend.\n"
          ],
          "name": "stderr"
        },
        {
          "output_type": "stream",
          "text": [
            "Wait for 8 seconds...\n",
            "TensorBoard link:\n",
            "https://1c49bf6e.ngrok.io\n"
          ],
          "name": "stdout"
        }
      ]
    },
    {
      "cell_type": "code",
      "metadata": {
        "colab_type": "code",
        "id": "wCaIyAgunhKI",
        "colab": {}
      },
      "source": [
        "config = projector.ProjectorConfig()\n",
        "projector.visualize_embeddings(tf.summary.FileWriter(OUTDIR), config)"
      ],
      "execution_count": 0,
      "outputs": []
    },
    {
      "cell_type": "code",
      "metadata": {
        "id": "LNFRE08Ld21O",
        "colab_type": "code",
        "outputId": "cd1b2c4f-ffb9-4a87-cea8-752afa933c11",
        "colab": {
          "base_uri": "https://localhost:8080/",
          "height": 391
        }
      },
      "source": [
        "model.fit(x_train_pad, y_train,\n",
        "          validation_split=0.05, epochs=10, batch_size=64)\n",
        "# model.fit(x_train_pad, y_train,\n",
        "#           validation_split=0.05, epochs=10, batch_size=64, \n",
        "#           callbacks=[TensorBoardColabCallback(tbc)])"
      ],
      "execution_count": 0,
      "outputs": [
        {
          "output_type": "stream",
          "text": [
            "Train on 43034 samples, validate on 2265 samples\n",
            "Epoch 1/10\n",
            "43034/43034 [==============================] - 10s 241us/sample - loss: 0.3766 - acc: 0.8225 - val_loss: 0.2414 - val_acc: 0.9192\n",
            "Epoch 2/10\n",
            "43034/43034 [==============================] - 8s 184us/sample - loss: 0.1336 - acc: 0.9629 - val_loss: 0.2113 - val_acc: 0.9347\n",
            "Epoch 3/10\n",
            "43034/43034 [==============================] - 8s 182us/sample - loss: 0.0957 - acc: 0.9740 - val_loss: 0.2113 - val_acc: 0.9329\n",
            "Epoch 4/10\n",
            "43034/43034 [==============================] - 8s 181us/sample - loss: 0.0893 - acc: 0.9742 - val_loss: 0.2084 - val_acc: 0.9355\n",
            "Epoch 5/10\n",
            "43034/43034 [==============================] - 8s 180us/sample - loss: 0.0858 - acc: 0.9744 - val_loss: 0.1964 - val_acc: 0.9369\n",
            "Epoch 6/10\n",
            "43034/43034 [==============================] - 8s 179us/sample - loss: 0.0834 - acc: 0.9744 - val_loss: 0.2037 - val_acc: 0.9360\n",
            "Epoch 7/10\n",
            "43034/43034 [==============================] - 8s 181us/sample - loss: 0.0810 - acc: 0.9748 - val_loss: 0.1998 - val_acc: 0.9377\n",
            "Epoch 8/10\n",
            "43034/43034 [==============================] - 8s 177us/sample - loss: 0.0800 - acc: 0.9747 - val_loss: 0.1970 - val_acc: 0.9369\n",
            "Epoch 9/10\n",
            "43034/43034 [==============================] - 8s 183us/sample - loss: 0.0786 - acc: 0.9749 - val_loss: 0.2059 - val_acc: 0.9364\n",
            "Epoch 10/10\n",
            "43034/43034 [==============================] - 8s 180us/sample - loss: 0.0782 - acc: 0.9751 - val_loss: 0.1979 - val_acc: 0.9382\n"
          ],
          "name": "stdout"
        },
        {
          "output_type": "execute_result",
          "data": {
            "text/plain": [
              "<tensorflow.python.keras.callbacks.History at 0x7f2e5f0b80f0>"
            ]
          },
          "metadata": {
            "tags": []
          },
          "execution_count": 45
        }
      ]
    },
    {
      "cell_type": "code",
      "metadata": {
        "id": "DrWI2jkoTocp",
        "colab_type": "code",
        "outputId": "10916996-3d4d-4b95-e74f-e6509411f466",
        "colab": {
          "base_uri": "https://localhost:8080/",
          "height": 68
        }
      },
      "source": [
        "%%time\n",
        "result = model.evaluate(x_test_pad, y_test)"
      ],
      "execution_count": 0,
      "outputs": [
        {
          "output_type": "stream",
          "text": [
            "15100/15100 [==============================] - 1s 69us/sample - loss: 0.2082 - acc: 0.9364\n",
            "CPU times: user 1.37 s, sys: 155 ms, total: 1.53 s\n",
            "Wall time: 1.05 s\n"
          ],
          "name": "stdout"
        }
      ]
    },
    {
      "cell_type": "code",
      "metadata": {
        "id": "uV_4p2PyUIgv",
        "colab_type": "code",
        "outputId": "e58d0f28-2ff4-4e84-fbf7-12a97f5d9b99",
        "colab": {
          "base_uri": "https://localhost:8080/",
          "height": 170
        }
      },
      "source": [
        "def predict_validity(texts):\n",
        "    texts = [str.lower(text) for text in texts]\n",
        "    tokens = tokenizer.texts_to_sequences(texts)\n",
        "    tokens_pad = pad_sequences(tokens, maxlen=max_tokens,\n",
        "                           padding=pad, truncating=pad)\n",
        "    print(tokens_pad.shape)\n",
        "    predictions = model.predict(tokens_pad)\n",
        "    results = []\n",
        "    i = 0\n",
        "    for pred in predictions:\n",
        "        if(pred <0.5):\n",
        "            results.append(\"{} is Valid\".format(texts[i]))\n",
        "        else:\n",
        "            results.append(\"{} is Invalid\".format(texts[i]))\n",
        "        i = i+1\n",
        "    return results\n",
        "\n",
        "text1 = \"gurpreet\"\n",
        "text2 = \"raju\"\n",
        "text3 = \"ram\"\n",
        "text4 = \"afkjafkj\"\n",
        "text5 = \"Iadfadf\"\n",
        "text6 = \"hello\"\n",
        "text7 = \"saddam hussain\"\n",
        "text8 = \"Md\"\n",
        "texts = [text1, text2, text3, text4, text5, text6, text7, text8]\n",
        "\n",
        "predict_validity(texts)"
      ],
      "execution_count": 0,
      "outputs": [
        {
          "output_type": "stream",
          "text": [
            "(8, 3)\n"
          ],
          "name": "stdout"
        },
        {
          "output_type": "execute_result",
          "data": {
            "text/plain": [
              "['gurpreet is Valid',\n",
              " 'raju is Valid',\n",
              " 'ram is Valid',\n",
              " 'afkjafkj is Invalid',\n",
              " 'iadfadf is Invalid',\n",
              " 'hello is Invalid',\n",
              " 'saddam hussain is Valid',\n",
              " 'md is Valid']"
            ]
          },
          "metadata": {
            "tags": []
          },
          "execution_count": 47
        }
      ]
    },
    {
      "cell_type": "code",
      "metadata": {
        "id": "Imy2n0SvV54k",
        "colab_type": "code",
        "colab": {}
      },
      "source": [
        ""
      ],
      "execution_count": 0,
      "outputs": []
    }
  ]
}